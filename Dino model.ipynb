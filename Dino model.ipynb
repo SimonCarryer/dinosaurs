{
 "cells": [
  {
   "cell_type": "markdown",
   "metadata": {},
   "source": [
    "# Dinosaurs and Decision Trees\n",
    "### Predicting dinosaur species' diets\n",
    "\n",
    "In this notebook we're going to load and clean a small dataset of some better-known dinosaur species, and then build a predictive model that will classify them as either herbivorous or carnivorous."
   ]
  },
  {
   "cell_type": "markdown",
   "metadata": {},
   "source": [
    "## Import modules\n",
    "(The usual suspects)"
   ]
  },
  {
   "cell_type": "code",
   "execution_count": 2,
   "metadata": {
    "collapsed": false
   },
   "outputs": [],
   "source": [
    "import pandas as pd\n",
    "import numpy as np\n",
    "\n",
    "from sklearn.model_selection import train_test_split\n",
    "from sklearn.tree import DecisionTreeClassifier\n",
    "from sklearn.linear_model import LogisticRegression\n",
    "from sklearn import tree\n"
   ]
  },
  {
   "cell_type": "markdown",
   "metadata": {},
   "source": [
    "## Load and clean data\n",
    "\n",
    "The data is held in a csv file called \"dino_data.csv\". We're going to read that into a data frame, and then create\n",
    "some new columns that turn the text categories (like 'bipedal' and 'quadrupedal') into a column of just ones and zeroes (one for bipedal, zero for quadrupedal). We're also creating a couple of other calculated columns."
   ]
  },
  {
   "cell_type": "code",
   "execution_count": 3,
   "metadata": {
    "collapsed": true
   },
   "outputs": [],
   "source": [
    "df = pd.read_csv('dino_data.csv')\n",
    "df = df[~df.name.isin(['Allosaurus', 'Dryosaurus'])] #This is kinda cheating but it made things clearer for the essay."
   ]
  },
  {
   "cell_type": "code",
   "execution_count": 4,
   "metadata": {
    "collapsed": false
   },
   "outputs": [
    {
     "data": {
      "text/html": [
       "<div>\n",
       "<table border=\"1\" class=\"dataframe\">\n",
       "  <thead>\n",
       "    <tr style=\"text-align: right;\">\n",
       "      <th></th>\n",
       "      <th>name</th>\n",
       "      <th>weight (tonnes)</th>\n",
       "      <th>diet</th>\n",
       "      <th>gait</th>\n",
       "      <th>length (m)</th>\n",
       "      <th>Jurassic</th>\n",
       "      <th>train</th>\n",
       "      <th>display</th>\n",
       "      <th>defence</th>\n",
       "      <th>feathers (confirmed)</th>\n",
       "      <th>feathers (likely)</th>\n",
       "    </tr>\n",
       "  </thead>\n",
       "  <tbody>\n",
       "    <tr>\n",
       "      <th>0</th>\n",
       "      <td>Velociraptor</td>\n",
       "      <td>0.015</td>\n",
       "      <td>carnivore</td>\n",
       "      <td>bipedal</td>\n",
       "      <td>2.0</td>\n",
       "      <td>0</td>\n",
       "      <td>1</td>\n",
       "      <td>0</td>\n",
       "      <td>0</td>\n",
       "      <td>1</td>\n",
       "      <td>1</td>\n",
       "    </tr>\n",
       "    <tr>\n",
       "      <th>3</th>\n",
       "      <td>Elaphrosaurus</td>\n",
       "      <td>0.210</td>\n",
       "      <td>carnivore</td>\n",
       "      <td>bipedal</td>\n",
       "      <td>6.0</td>\n",
       "      <td>1</td>\n",
       "      <td>1</td>\n",
       "      <td>0</td>\n",
       "      <td>0</td>\n",
       "      <td>0</td>\n",
       "      <td>0</td>\n",
       "    </tr>\n",
       "    <tr>\n",
       "      <th>4</th>\n",
       "      <td>Gallimimus</td>\n",
       "      <td>0.040</td>\n",
       "      <td>omnivore</td>\n",
       "      <td>bipedal</td>\n",
       "      <td>6.0</td>\n",
       "      <td>0</td>\n",
       "      <td>1</td>\n",
       "      <td>0</td>\n",
       "      <td>0</td>\n",
       "      <td>0</td>\n",
       "      <td>1</td>\n",
       "    </tr>\n",
       "    <tr>\n",
       "      <th>7</th>\n",
       "      <td>Dilophosaurus</td>\n",
       "      <td>0.400</td>\n",
       "      <td>carnivore</td>\n",
       "      <td>bipedal</td>\n",
       "      <td>6.0</td>\n",
       "      <td>1</td>\n",
       "      <td>1</td>\n",
       "      <td>1</td>\n",
       "      <td>0</td>\n",
       "      <td>0</td>\n",
       "      <td>1</td>\n",
       "    </tr>\n",
       "    <tr>\n",
       "      <th>9</th>\n",
       "      <td>Utahraptor</td>\n",
       "      <td>0.500</td>\n",
       "      <td>carnivore</td>\n",
       "      <td>bipedal</td>\n",
       "      <td>7.0</td>\n",
       "      <td>0</td>\n",
       "      <td>1</td>\n",
       "      <td>0</td>\n",
       "      <td>0</td>\n",
       "      <td>1</td>\n",
       "      <td>1</td>\n",
       "    </tr>\n",
       "    <tr>\n",
       "      <th>10</th>\n",
       "      <td>Parasaurolophus</td>\n",
       "      <td>3.200</td>\n",
       "      <td>herbivore</td>\n",
       "      <td>bipedal</td>\n",
       "      <td>12.0</td>\n",
       "      <td>0</td>\n",
       "      <td>1</td>\n",
       "      <td>1</td>\n",
       "      <td>0</td>\n",
       "      <td>0</td>\n",
       "      <td>0</td>\n",
       "    </tr>\n",
       "    <tr>\n",
       "      <th>11</th>\n",
       "      <td>Ceratosaurus</td>\n",
       "      <td>0.400</td>\n",
       "      <td>carnivore</td>\n",
       "      <td>bipedal</td>\n",
       "      <td>6.0</td>\n",
       "      <td>1</td>\n",
       "      <td>1</td>\n",
       "      <td>1</td>\n",
       "      <td>0</td>\n",
       "      <td>0</td>\n",
       "      <td>1</td>\n",
       "    </tr>\n",
       "    <tr>\n",
       "      <th>14</th>\n",
       "      <td>Bactrosaurus</td>\n",
       "      <td>1.500</td>\n",
       "      <td>herbivore</td>\n",
       "      <td>bipedal</td>\n",
       "      <td>6.0</td>\n",
       "      <td>0</td>\n",
       "      <td>1</td>\n",
       "      <td>0</td>\n",
       "      <td>0</td>\n",
       "      <td>0</td>\n",
       "      <td>0</td>\n",
       "    </tr>\n",
       "    <tr>\n",
       "      <th>15</th>\n",
       "      <td>Spinosaurus</td>\n",
       "      <td>9.000</td>\n",
       "      <td>carnivore</td>\n",
       "      <td>bipedal</td>\n",
       "      <td>15.0</td>\n",
       "      <td>0</td>\n",
       "      <td>1</td>\n",
       "      <td>1</td>\n",
       "      <td>0</td>\n",
       "      <td>0</td>\n",
       "      <td>0</td>\n",
       "    </tr>\n",
       "    <tr>\n",
       "      <th>16</th>\n",
       "      <td>Stegosaurus</td>\n",
       "      <td>2.400</td>\n",
       "      <td>herbivore</td>\n",
       "      <td>quadrupedal</td>\n",
       "      <td>9.0</td>\n",
       "      <td>1</td>\n",
       "      <td>1</td>\n",
       "      <td>0</td>\n",
       "      <td>1</td>\n",
       "      <td>0</td>\n",
       "      <td>0</td>\n",
       "    </tr>\n",
       "    <tr>\n",
       "      <th>18</th>\n",
       "      <td>Ankylosaurus</td>\n",
       "      <td>6.000</td>\n",
       "      <td>herbivore</td>\n",
       "      <td>quadrupedal</td>\n",
       "      <td>10.0</td>\n",
       "      <td>0</td>\n",
       "      <td>1</td>\n",
       "      <td>0</td>\n",
       "      <td>1</td>\n",
       "      <td>0</td>\n",
       "      <td>0</td>\n",
       "    </tr>\n",
       "    <tr>\n",
       "      <th>19</th>\n",
       "      <td>Iguanodon</td>\n",
       "      <td>3.800</td>\n",
       "      <td>herbivore</td>\n",
       "      <td>quadrupedal</td>\n",
       "      <td>10.0</td>\n",
       "      <td>0</td>\n",
       "      <td>1</td>\n",
       "      <td>0</td>\n",
       "      <td>0</td>\n",
       "      <td>0</td>\n",
       "      <td>0</td>\n",
       "    </tr>\n",
       "    <tr>\n",
       "      <th>20</th>\n",
       "      <td>Altirhinus</td>\n",
       "      <td>1.100</td>\n",
       "      <td>herbivore</td>\n",
       "      <td>bipedal</td>\n",
       "      <td>6.0</td>\n",
       "      <td>0</td>\n",
       "      <td>1</td>\n",
       "      <td>1</td>\n",
       "      <td>0</td>\n",
       "      <td>0</td>\n",
       "      <td>0</td>\n",
       "    </tr>\n",
       "    <tr>\n",
       "      <th>21</th>\n",
       "      <td>Giganotosaurus</td>\n",
       "      <td>10.000</td>\n",
       "      <td>carnivore</td>\n",
       "      <td>bipedal</td>\n",
       "      <td>14.3</td>\n",
       "      <td>0</td>\n",
       "      <td>1</td>\n",
       "      <td>0</td>\n",
       "      <td>0</td>\n",
       "      <td>0</td>\n",
       "      <td>0</td>\n",
       "    </tr>\n",
       "    <tr>\n",
       "      <th>22</th>\n",
       "      <td>Tyrannosaurus rex</td>\n",
       "      <td>8.400</td>\n",
       "      <td>carnivore</td>\n",
       "      <td>bipedal</td>\n",
       "      <td>12.4</td>\n",
       "      <td>0</td>\n",
       "      <td>1</td>\n",
       "      <td>0</td>\n",
       "      <td>0</td>\n",
       "      <td>0</td>\n",
       "      <td>1</td>\n",
       "    </tr>\n",
       "    <tr>\n",
       "      <th>23</th>\n",
       "      <td>Carcharodontosaurus</td>\n",
       "      <td>8.000</td>\n",
       "      <td>carnivore</td>\n",
       "      <td>bipedal</td>\n",
       "      <td>13.0</td>\n",
       "      <td>0</td>\n",
       "      <td>1</td>\n",
       "      <td>0</td>\n",
       "      <td>0</td>\n",
       "      <td>0</td>\n",
       "      <td>0</td>\n",
       "    </tr>\n",
       "    <tr>\n",
       "      <th>25</th>\n",
       "      <td>Apatosaurus</td>\n",
       "      <td>20.000</td>\n",
       "      <td>herbivore</td>\n",
       "      <td>quadrupedal</td>\n",
       "      <td>22.0</td>\n",
       "      <td>1</td>\n",
       "      <td>1</td>\n",
       "      <td>0</td>\n",
       "      <td>0</td>\n",
       "      <td>0</td>\n",
       "      <td>0</td>\n",
       "    </tr>\n",
       "    <tr>\n",
       "      <th>26</th>\n",
       "      <td>Triceratops</td>\n",
       "      <td>8.000</td>\n",
       "      <td>herbivore</td>\n",
       "      <td>quadrupedal</td>\n",
       "      <td>8.0</td>\n",
       "      <td>0</td>\n",
       "      <td>1</td>\n",
       "      <td>0</td>\n",
       "      <td>1</td>\n",
       "      <td>0</td>\n",
       "      <td>0</td>\n",
       "    </tr>\n",
       "    <tr>\n",
       "      <th>27</th>\n",
       "      <td>Camarasaurus</td>\n",
       "      <td>47.000</td>\n",
       "      <td>herbivore</td>\n",
       "      <td>quadrupedal</td>\n",
       "      <td>20.0</td>\n",
       "      <td>1</td>\n",
       "      <td>1</td>\n",
       "      <td>0</td>\n",
       "      <td>0</td>\n",
       "      <td>0</td>\n",
       "      <td>0</td>\n",
       "    </tr>\n",
       "    <tr>\n",
       "      <th>28</th>\n",
       "      <td>Brachiosaurus</td>\n",
       "      <td>56.000</td>\n",
       "      <td>herbivore</td>\n",
       "      <td>quadrupedal</td>\n",
       "      <td>26.0</td>\n",
       "      <td>1</td>\n",
       "      <td>1</td>\n",
       "      <td>0</td>\n",
       "      <td>0</td>\n",
       "      <td>0</td>\n",
       "      <td>0</td>\n",
       "    </tr>\n",
       "  </tbody>\n",
       "</table>\n",
       "</div>"
      ],
      "text/plain": [
       "                   name  weight (tonnes)       diet         gait  length (m)  \\\n",
       "0          Velociraptor            0.015  carnivore      bipedal         2.0   \n",
       "3         Elaphrosaurus            0.210  carnivore      bipedal         6.0   \n",
       "4            Gallimimus            0.040   omnivore      bipedal         6.0   \n",
       "7         Dilophosaurus            0.400  carnivore      bipedal         6.0   \n",
       "9            Utahraptor            0.500  carnivore      bipedal         7.0   \n",
       "10      Parasaurolophus            3.200  herbivore      bipedal        12.0   \n",
       "11         Ceratosaurus            0.400  carnivore      bipedal         6.0   \n",
       "14         Bactrosaurus            1.500  herbivore      bipedal         6.0   \n",
       "15          Spinosaurus            9.000  carnivore      bipedal        15.0   \n",
       "16          Stegosaurus            2.400  herbivore  quadrupedal         9.0   \n",
       "18         Ankylosaurus            6.000  herbivore  quadrupedal        10.0   \n",
       "19            Iguanodon            3.800  herbivore  quadrupedal        10.0   \n",
       "20           Altirhinus            1.100  herbivore      bipedal         6.0   \n",
       "21       Giganotosaurus           10.000  carnivore      bipedal        14.3   \n",
       "22    Tyrannosaurus rex            8.400  carnivore      bipedal        12.4   \n",
       "23  Carcharodontosaurus            8.000  carnivore      bipedal        13.0   \n",
       "25          Apatosaurus           20.000  herbivore  quadrupedal        22.0   \n",
       "26          Triceratops            8.000  herbivore  quadrupedal         8.0   \n",
       "27         Camarasaurus           47.000  herbivore  quadrupedal        20.0   \n",
       "28        Brachiosaurus           56.000  herbivore  quadrupedal        26.0   \n",
       "\n",
       "    Jurassic  train  display  defence  feathers (confirmed)  feathers (likely)  \n",
       "0          0      1        0        0                     1                  1  \n",
       "3          1      1        0        0                     0                  0  \n",
       "4          0      1        0        0                     0                  1  \n",
       "7          1      1        1        0                     0                  1  \n",
       "9          0      1        0        0                     1                  1  \n",
       "10         0      1        1        0                     0                  0  \n",
       "11         1      1        1        0                     0                  1  \n",
       "14         0      1        0        0                     0                  0  \n",
       "15         0      1        1        0                     0                  0  \n",
       "16         1      1        0        1                     0                  0  \n",
       "18         0      1        0        1                     0                  0  \n",
       "19         0      1        0        0                     0                  0  \n",
       "20         0      1        1        0                     0                  0  \n",
       "21         0      1        0        0                     0                  0  \n",
       "22         0      1        0        0                     0                  1  \n",
       "23         0      1        0        0                     0                  0  \n",
       "25         1      1        0        0                     0                  0  \n",
       "26         0      1        0        1                     0                  0  \n",
       "27         1      1        0        0                     0                  0  \n",
       "28         1      1        0        0                     0                  0  "
      ]
     },
     "execution_count": 4,
     "metadata": {},
     "output_type": "execute_result"
    }
   ],
   "source": [
    "# Let's look at the training data\n",
    "\n",
    "df[df.train == 1]"
   ]
  },
  {
   "cell_type": "code",
   "execution_count": 5,
   "metadata": {
    "collapsed": false
   },
   "outputs": [],
   "source": [
    "df['bipedal'] = (df.gait == 'bipedal') * 1\n",
    "df['meatasaurus'] = (df.diet != 'herbivore') * 1\n",
    "df['tonnes per meter'] = df['weight (tonnes)']/df['length (m)']\n",
    "df['defence or display'] = df.defence | df.display"
   ]
  },
  {
   "cell_type": "markdown",
   "metadata": {},
   "source": [
    "Last, we'll split the data into \"training\" and \"testing\" datasets, according to a flag in the data (More traditionally this is done randomly, but to ensure results are consistent, I've hard-coded it). The training dataset is used to train the models, and then we test how well they do on unseen data from the test set."
   ]
  },
  {
   "cell_type": "code",
   "execution_count": 6,
   "metadata": {
    "collapsed": false
   },
   "outputs": [],
   "source": [
    "train = df[df.train == 1]\n",
    "test = df[df.train != 1]"
   ]
  },
  {
   "cell_type": "code",
   "execution_count": 7,
   "metadata": {
    "collapsed": false
   },
   "outputs": [
    {
     "name": "stdout",
     "output_type": "stream",
     "text": [
      "20 7\n"
     ]
    }
   ],
   "source": [
    "print len(train), len(test)"
   ]
  },
  {
   "cell_type": "markdown",
   "metadata": {},
   "source": [
    "## Training a model\n",
    "\n",
    "We'll use a simple decision tree first, using only a few features."
   ]
  },
  {
   "cell_type": "code",
   "execution_count": 9,
   "metadata": {
    "collapsed": true
   },
   "outputs": [],
   "source": [
    "tree_classifier = DecisionTreeClassifier(max_depth=3,\n",
    "                                    random_state=1 # Decision trees have some random elements, so this ensures it's always the same.\n",
    "                                   )"
   ]
  },
  {
   "cell_type": "code",
   "execution_count": 10,
   "metadata": {
    "collapsed": false
   },
   "outputs": [],
   "source": [
    "basic_features = ['bipedal', 'length (m)', 'Jurassic', 'weight (tonnes)'] \n"
   ]
  },
  {
   "cell_type": "code",
   "execution_count": 11,
   "metadata": {
    "collapsed": false
   },
   "outputs": [
    {
     "data": {
      "text/html": [
       "<div>\n",
       "<table border=\"1\" class=\"dataframe\">\n",
       "  <thead>\n",
       "    <tr style=\"text-align: right;\">\n",
       "      <th></th>\n",
       "      <th>name</th>\n",
       "      <th>bipedal</th>\n",
       "      <th>length (m)</th>\n",
       "      <th>Jurassic</th>\n",
       "      <th>weight (tonnes)</th>\n",
       "      <th>meatasaurus</th>\n",
       "    </tr>\n",
       "  </thead>\n",
       "  <tbody>\n",
       "    <tr>\n",
       "      <th>0</th>\n",
       "      <td>Velociraptor</td>\n",
       "      <td>1</td>\n",
       "      <td>2.0</td>\n",
       "      <td>0</td>\n",
       "      <td>0.015</td>\n",
       "      <td>1</td>\n",
       "    </tr>\n",
       "    <tr>\n",
       "      <th>3</th>\n",
       "      <td>Elaphrosaurus</td>\n",
       "      <td>1</td>\n",
       "      <td>6.0</td>\n",
       "      <td>1</td>\n",
       "      <td>0.210</td>\n",
       "      <td>1</td>\n",
       "    </tr>\n",
       "    <tr>\n",
       "      <th>4</th>\n",
       "      <td>Gallimimus</td>\n",
       "      <td>1</td>\n",
       "      <td>6.0</td>\n",
       "      <td>0</td>\n",
       "      <td>0.040</td>\n",
       "      <td>1</td>\n",
       "    </tr>\n",
       "    <tr>\n",
       "      <th>7</th>\n",
       "      <td>Dilophosaurus</td>\n",
       "      <td>1</td>\n",
       "      <td>6.0</td>\n",
       "      <td>1</td>\n",
       "      <td>0.400</td>\n",
       "      <td>1</td>\n",
       "    </tr>\n",
       "    <tr>\n",
       "      <th>9</th>\n",
       "      <td>Utahraptor</td>\n",
       "      <td>1</td>\n",
       "      <td>7.0</td>\n",
       "      <td>0</td>\n",
       "      <td>0.500</td>\n",
       "      <td>1</td>\n",
       "    </tr>\n",
       "    <tr>\n",
       "      <th>10</th>\n",
       "      <td>Parasaurolophus</td>\n",
       "      <td>1</td>\n",
       "      <td>12.0</td>\n",
       "      <td>0</td>\n",
       "      <td>3.200</td>\n",
       "      <td>0</td>\n",
       "    </tr>\n",
       "    <tr>\n",
       "      <th>11</th>\n",
       "      <td>Ceratosaurus</td>\n",
       "      <td>1</td>\n",
       "      <td>6.0</td>\n",
       "      <td>1</td>\n",
       "      <td>0.400</td>\n",
       "      <td>1</td>\n",
       "    </tr>\n",
       "    <tr>\n",
       "      <th>14</th>\n",
       "      <td>Bactrosaurus</td>\n",
       "      <td>1</td>\n",
       "      <td>6.0</td>\n",
       "      <td>0</td>\n",
       "      <td>1.500</td>\n",
       "      <td>0</td>\n",
       "    </tr>\n",
       "  </tbody>\n",
       "</table>\n",
       "</div>"
      ],
      "text/plain": [
       "               name  bipedal  length (m)  Jurassic  weight (tonnes)  \\\n",
       "0      Velociraptor        1         2.0         0            0.015   \n",
       "3     Elaphrosaurus        1         6.0         1            0.210   \n",
       "4        Gallimimus        1         6.0         0            0.040   \n",
       "7     Dilophosaurus        1         6.0         1            0.400   \n",
       "9        Utahraptor        1         7.0         0            0.500   \n",
       "10  Parasaurolophus        1        12.0         0            3.200   \n",
       "11     Ceratosaurus        1         6.0         1            0.400   \n",
       "14     Bactrosaurus        1         6.0         0            1.500   \n",
       "\n",
       "    meatasaurus  \n",
       "0             1  \n",
       "3             1  \n",
       "4             1  \n",
       "7             1  \n",
       "9             1  \n",
       "10            0  \n",
       "11            1  \n",
       "14            0  "
      ]
     },
     "execution_count": 11,
     "metadata": {},
     "output_type": "execute_result"
    }
   ],
   "source": [
    "train[['name'] + basic_features + ['meatasaurus']].head(8)"
   ]
  },
  {
   "cell_type": "code",
   "execution_count": 12,
   "metadata": {
    "collapsed": false
   },
   "outputs": [
    {
     "data": {
      "text/plain": [
       "DecisionTreeClassifier(class_weight=None, criterion='gini', max_depth=3,\n",
       "            max_features=None, max_leaf_nodes=None,\n",
       "            min_impurity_split=1e-07, min_samples_leaf=1,\n",
       "            min_samples_split=2, min_weight_fraction_leaf=0.0,\n",
       "            presort=False, random_state=1, splitter='best')"
      ]
     },
     "execution_count": 12,
     "metadata": {},
     "output_type": "execute_result"
    }
   ],
   "source": [
    "tree_classifier.fit(train[basic_features], train.meatasaurus)"
   ]
  },
  {
   "cell_type": "markdown",
   "metadata": {},
   "source": [
    "## A quick digression - explaining a tree\n",
    "\n",
    "I wrote this method (using mostly code stolen from Stack Overflow) to print out a description of the tree steps. It's ugly, but it's easier than getting the GraphViz libraries working for the built-in visualisation tools (which are much prettier)."
   ]
  },
  {
   "cell_type": "code",
   "execution_count": 13,
   "metadata": {
    "collapsed": true
   },
   "outputs": [],
   "source": [
    "def explain_tree(trained_model, features):\n",
    "    n_nodes = trained_model.tree_.node_count\n",
    "    children_left = trained_model.tree_.children_left\n",
    "    children_right = trained_model.tree_.children_right\n",
    "    feature = trained_model.tree_.feature\n",
    "    threshold = trained_model.tree_.threshold\n",
    "\n",
    "    values = trained_model.tree_.value\n",
    "    node_depth = np.zeros(shape=n_nodes, dtype=np.int64)\n",
    "    is_leaves = np.zeros(shape=n_nodes, dtype=bool)\n",
    "    stack = [(0, -1)]  # seed is the root node id and its parent depth\n",
    "    while len(stack) > 0:\n",
    "        node_id, parent_depth = stack.pop()\n",
    "        node_depth[node_id] = parent_depth + 1\n",
    "\n",
    "        # If we have a test node\n",
    "        if (children_left[node_id] != children_right[node_id]):\n",
    "            stack.append((children_left[node_id], parent_depth + 1))\n",
    "            stack.append((children_right[node_id], parent_depth + 1))\n",
    "        else:\n",
    "            is_leaves[node_id] = True\n",
    "\n",
    "    print(\"The binary tree structure has %s nodes and has \"\n",
    "          \"the following tree structure:\"\n",
    "          % n_nodes)\n",
    "    for i in range(n_nodes):\n",
    "        if is_leaves[i]:\n",
    "            vals = values[i][0]\n",
    "            n = sum(vals)\n",
    "            proportion = int(vals[1]/n*100)\n",
    "            print(\"%snode=%s leaf node. %s%% meatosaurus of %d examples.\" % (node_depth[i] * \"\\t\", i, proportion, n))\n",
    "        else:\n",
    "            print(\"%snode=%s test node: go to node %s if %s <= %s else to \"\n",
    "                  \"node %s.\"\n",
    "                  % (node_depth[i] * \"\\t\",\n",
    "                     i,\n",
    "                     children_left[i],\n",
    "                     features[feature[i]],\n",
    "                     threshold[i],\n",
    "                     children_right[i],\n",
    "                     ))\n",
    "    "
   ]
  },
  {
   "cell_type": "markdown",
   "metadata": {},
   "source": [
    "## Examining the Decision Tree\n",
    "\n",
    "Let's have a look at the tree we've built. We can describe the \"flow chart\" that we've made, and look at how much each feature contributes to the overall result."
   ]
  },
  {
   "cell_type": "code",
   "execution_count": 14,
   "metadata": {
    "collapsed": false
   },
   "outputs": [
    {
     "name": "stdout",
     "output_type": "stream",
     "text": [
      "The binary tree structure has 7 nodes and has the following tree structure:\n",
      "node=0 test node: go to node 1 if bipedal <= 0.5 else to node 2.\n",
      "\tnode=1 leaf node. 0% meatosaurus of 7 examples.\n",
      "\tnode=2 test node: go to node 3 if weight (tonnes) <= 0.800000011921 else to node 4.\n",
      "\t\tnode=3 leaf node. 100% meatosaurus of 6 examples.\n",
      "\t\tnode=4 test node: go to node 5 if length (m) <= 12.1999998093 else to node 6.\n",
      "\t\t\tnode=5 leaf node. 0% meatosaurus of 3 examples.\n",
      "\t\t\tnode=6 leaf node. 100% meatosaurus of 4 examples.\n"
     ]
    }
   ],
   "source": [
    "explain_tree(tree_classifier, basic_features)"
   ]
  },
  {
   "cell_type": "markdown",
   "metadata": {},
   "source": [
    "Decision trees have a neat property which is \"feature importance\" - how much each feature contributes to the overall outcome. Here are the feature importances for our model:"
   ]
  },
  {
   "cell_type": "code",
   "execution_count": 15,
   "metadata": {
    "collapsed": false
   },
   "outputs": [
    {
     "data": {
      "text/html": [
       "<div>\n",
       "<table border=\"1\" class=\"dataframe\">\n",
       "  <thead>\n",
       "    <tr style=\"text-align: right;\">\n",
       "      <th></th>\n",
       "      <th>feature</th>\n",
       "      <th>importance</th>\n",
       "    </tr>\n",
       "  </thead>\n",
       "  <tbody>\n",
       "    <tr>\n",
       "      <th>0</th>\n",
       "      <td>bipedal</td>\n",
       "      <td>0.538462</td>\n",
       "    </tr>\n",
       "    <tr>\n",
       "      <th>1</th>\n",
       "      <td>length (m)</td>\n",
       "      <td>0.342857</td>\n",
       "    </tr>\n",
       "    <tr>\n",
       "      <th>2</th>\n",
       "      <td>Jurassic</td>\n",
       "      <td>0.000000</td>\n",
       "    </tr>\n",
       "    <tr>\n",
       "      <th>3</th>\n",
       "      <td>weight (tonnes)</td>\n",
       "      <td>0.118681</td>\n",
       "    </tr>\n",
       "  </tbody>\n",
       "</table>\n",
       "</div>"
      ],
      "text/plain": [
       "           feature  importance\n",
       "0          bipedal    0.538462\n",
       "1       length (m)    0.342857\n",
       "2         Jurassic    0.000000\n",
       "3  weight (tonnes)    0.118681"
      ]
     },
     "execution_count": 15,
     "metadata": {},
     "output_type": "execute_result"
    }
   ],
   "source": [
    "pd.DataFrame(zip(basic_features, tree_classifier.feature_importances_), columns = ['feature', 'importance'])"
   ]
  },
  {
   "cell_type": "markdown",
   "metadata": {},
   "source": [
    "## Making Predictions\n",
    "\n",
    "We'll make predictions for our test dataset using the basic model"
   ]
  },
  {
   "cell_type": "code",
   "execution_count": 13,
   "metadata": {
    "collapsed": true
   },
   "outputs": [],
   "source": [
    "predictions = tree_classifier.predict(test[basic_features])\n"
   ]
  },
  {
   "cell_type": "code",
   "execution_count": 14,
   "metadata": {
    "collapsed": false
   },
   "outputs": [
    {
     "data": {
      "text/html": [
       "<div>\n",
       "<table border=\"1\" class=\"dataframe\">\n",
       "  <thead>\n",
       "    <tr style=\"text-align: right;\">\n",
       "      <th></th>\n",
       "      <th>name</th>\n",
       "      <th>predicted</th>\n",
       "      <th>actual</th>\n",
       "    </tr>\n",
       "  </thead>\n",
       "  <tbody>\n",
       "    <tr>\n",
       "      <th>0</th>\n",
       "      <td>Albertonykus</td>\n",
       "      <td>1</td>\n",
       "      <td>1</td>\n",
       "    </tr>\n",
       "    <tr>\n",
       "      <th>1</th>\n",
       "      <td>Deinonychus</td>\n",
       "      <td>1</td>\n",
       "      <td>1</td>\n",
       "    </tr>\n",
       "    <tr>\n",
       "      <th>2</th>\n",
       "      <td>Dracopelta</td>\n",
       "      <td>0</td>\n",
       "      <td>0</td>\n",
       "    </tr>\n",
       "    <tr>\n",
       "      <th>3</th>\n",
       "      <td>Pachycephalosaurus</td>\n",
       "      <td>1</td>\n",
       "      <td>0</td>\n",
       "    </tr>\n",
       "    <tr>\n",
       "      <th>4</th>\n",
       "      <td>Albertosaurus</td>\n",
       "      <td>0</td>\n",
       "      <td>1</td>\n",
       "    </tr>\n",
       "    <tr>\n",
       "      <th>5</th>\n",
       "      <td>Megalosaurus</td>\n",
       "      <td>0</td>\n",
       "      <td>1</td>\n",
       "    </tr>\n",
       "    <tr>\n",
       "      <th>6</th>\n",
       "      <td>Yangchuanosaurus</td>\n",
       "      <td>0</td>\n",
       "      <td>1</td>\n",
       "    </tr>\n",
       "  </tbody>\n",
       "</table>\n",
       "</div>"
      ],
      "text/plain": [
       "                 name  predicted  actual\n",
       "0        Albertonykus          1       1\n",
       "1         Deinonychus          1       1\n",
       "2          Dracopelta          0       0\n",
       "3  Pachycephalosaurus          1       0\n",
       "4       Albertosaurus          0       1\n",
       "5        Megalosaurus          0       1\n",
       "6    Yangchuanosaurus          0       1"
      ]
     },
     "execution_count": 14,
     "metadata": {},
     "output_type": "execute_result"
    }
   ],
   "source": [
    "pd.DataFrame(zip(test.name, predictions, test.meatasaurus), columns = ['name', 'predicted', 'actual'])"
   ]
  },
  {
   "cell_type": "markdown",
   "metadata": {},
   "source": [
    "Oh no! Our model sucks! Let's see if we can do better."
   ]
  },
  {
   "cell_type": "markdown",
   "metadata": {},
   "source": [
    "## Better Models Part One - Logistic Regression\n",
    "\n",
    "Let's quickly see how well a logistic regression model compares to our decision tree. We'll use exactly the same features, and just change the prediction algorithm."
   ]
  },
  {
   "cell_type": "code",
   "execution_count": 15,
   "metadata": {
    "collapsed": false
   },
   "outputs": [
    {
     "data": {
      "text/html": [
       "<div>\n",
       "<table border=\"1\" class=\"dataframe\">\n",
       "  <thead>\n",
       "    <tr style=\"text-align: right;\">\n",
       "      <th></th>\n",
       "      <th>name</th>\n",
       "      <th>predicted</th>\n",
       "      <th>actual</th>\n",
       "    </tr>\n",
       "  </thead>\n",
       "  <tbody>\n",
       "    <tr>\n",
       "      <th>0</th>\n",
       "      <td>Albertonykus</td>\n",
       "      <td>1</td>\n",
       "      <td>1</td>\n",
       "    </tr>\n",
       "    <tr>\n",
       "      <th>1</th>\n",
       "      <td>Deinonychus</td>\n",
       "      <td>1</td>\n",
       "      <td>1</td>\n",
       "    </tr>\n",
       "    <tr>\n",
       "      <th>2</th>\n",
       "      <td>Dracopelta</td>\n",
       "      <td>0</td>\n",
       "      <td>0</td>\n",
       "    </tr>\n",
       "    <tr>\n",
       "      <th>3</th>\n",
       "      <td>Pachycephalosaurus</td>\n",
       "      <td>1</td>\n",
       "      <td>0</td>\n",
       "    </tr>\n",
       "    <tr>\n",
       "      <th>4</th>\n",
       "      <td>Albertosaurus</td>\n",
       "      <td>1</td>\n",
       "      <td>1</td>\n",
       "    </tr>\n",
       "    <tr>\n",
       "      <th>5</th>\n",
       "      <td>Megalosaurus</td>\n",
       "      <td>1</td>\n",
       "      <td>1</td>\n",
       "    </tr>\n",
       "    <tr>\n",
       "      <th>6</th>\n",
       "      <td>Yangchuanosaurus</td>\n",
       "      <td>1</td>\n",
       "      <td>1</td>\n",
       "    </tr>\n",
       "  </tbody>\n",
       "</table>\n",
       "</div>"
      ],
      "text/plain": [
       "                 name  predicted  actual\n",
       "0        Albertonykus          1       1\n",
       "1         Deinonychus          1       1\n",
       "2          Dracopelta          0       0\n",
       "3  Pachycephalosaurus          1       0\n",
       "4       Albertosaurus          1       1\n",
       "5        Megalosaurus          1       1\n",
       "6    Yangchuanosaurus          1       1"
      ]
     },
     "execution_count": 15,
     "metadata": {},
     "output_type": "execute_result"
    }
   ],
   "source": [
    "logistic_classifier = LogisticRegression()\n",
    "\n",
    "logistic_classifier.fit(train[basic_features], train.meatasaurus)\n",
    "\n",
    "predictions = logistic_classifier.predict(test[basic_features])\n",
    "\n",
    "pd.DataFrame(zip(test.name, predictions, test.meatasaurus), columns = ['name', 'predicted', 'actual'])"
   ]
  },
  {
   "cell_type": "markdown",
   "metadata": {},
   "source": [
    "It's much better, but not perfect. Shows how big a difference algorithm selection can make (also that Logistic Regression is often the best choice)."
   ]
  },
  {
   "cell_type": "markdown",
   "metadata": {},
   "source": [
    "## Better Models Part Two: Fancy Features\n",
    "\n",
    "We'll make another decision tree, but this time give it access to all the cool features in the dataset."
   ]
  },
  {
   "cell_type": "code",
   "execution_count": 16,
   "metadata": {
    "collapsed": false
   },
   "outputs": [
    {
     "data": {
      "text/html": [
       "<div>\n",
       "<table border=\"1\" class=\"dataframe\">\n",
       "  <thead>\n",
       "    <tr style=\"text-align: right;\">\n",
       "      <th></th>\n",
       "      <th>name</th>\n",
       "      <th>bipedal</th>\n",
       "      <th>Jurassic</th>\n",
       "      <th>defence or display</th>\n",
       "      <th>feathers (likely)</th>\n",
       "      <th>tonnes per meter</th>\n",
       "      <th>meatasaurus</th>\n",
       "    </tr>\n",
       "  </thead>\n",
       "  <tbody>\n",
       "    <tr>\n",
       "      <th>0</th>\n",
       "      <td>Velociraptor</td>\n",
       "      <td>1</td>\n",
       "      <td>0</td>\n",
       "      <td>0</td>\n",
       "      <td>1</td>\n",
       "      <td>0.007500</td>\n",
       "      <td>1</td>\n",
       "    </tr>\n",
       "    <tr>\n",
       "      <th>3</th>\n",
       "      <td>Elaphrosaurus</td>\n",
       "      <td>1</td>\n",
       "      <td>1</td>\n",
       "      <td>0</td>\n",
       "      <td>0</td>\n",
       "      <td>0.035000</td>\n",
       "      <td>1</td>\n",
       "    </tr>\n",
       "    <tr>\n",
       "      <th>4</th>\n",
       "      <td>Gallimimus</td>\n",
       "      <td>1</td>\n",
       "      <td>0</td>\n",
       "      <td>0</td>\n",
       "      <td>1</td>\n",
       "      <td>0.006667</td>\n",
       "      <td>1</td>\n",
       "    </tr>\n",
       "    <tr>\n",
       "      <th>7</th>\n",
       "      <td>Dilophosaurus</td>\n",
       "      <td>1</td>\n",
       "      <td>1</td>\n",
       "      <td>1</td>\n",
       "      <td>1</td>\n",
       "      <td>0.066667</td>\n",
       "      <td>1</td>\n",
       "    </tr>\n",
       "    <tr>\n",
       "      <th>9</th>\n",
       "      <td>Utahraptor</td>\n",
       "      <td>1</td>\n",
       "      <td>0</td>\n",
       "      <td>0</td>\n",
       "      <td>1</td>\n",
       "      <td>0.071429</td>\n",
       "      <td>1</td>\n",
       "    </tr>\n",
       "    <tr>\n",
       "      <th>10</th>\n",
       "      <td>Parasaurolophus</td>\n",
       "      <td>1</td>\n",
       "      <td>0</td>\n",
       "      <td>1</td>\n",
       "      <td>0</td>\n",
       "      <td>0.266667</td>\n",
       "      <td>0</td>\n",
       "    </tr>\n",
       "    <tr>\n",
       "      <th>11</th>\n",
       "      <td>Ceratosaurus</td>\n",
       "      <td>1</td>\n",
       "      <td>1</td>\n",
       "      <td>1</td>\n",
       "      <td>1</td>\n",
       "      <td>0.066667</td>\n",
       "      <td>1</td>\n",
       "    </tr>\n",
       "    <tr>\n",
       "      <th>14</th>\n",
       "      <td>Bactrosaurus</td>\n",
       "      <td>1</td>\n",
       "      <td>0</td>\n",
       "      <td>0</td>\n",
       "      <td>0</td>\n",
       "      <td>0.250000</td>\n",
       "      <td>0</td>\n",
       "    </tr>\n",
       "  </tbody>\n",
       "</table>\n",
       "</div>"
      ],
      "text/plain": [
       "               name  bipedal  Jurassic  defence or display  feathers (likely)  \\\n",
       "0      Velociraptor        1         0                   0                  1   \n",
       "3     Elaphrosaurus        1         1                   0                  0   \n",
       "4        Gallimimus        1         0                   0                  1   \n",
       "7     Dilophosaurus        1         1                   1                  1   \n",
       "9        Utahraptor        1         0                   0                  1   \n",
       "10  Parasaurolophus        1         0                   1                  0   \n",
       "11     Ceratosaurus        1         1                   1                  1   \n",
       "14     Bactrosaurus        1         0                   0                  0   \n",
       "\n",
       "    tonnes per meter  meatasaurus  \n",
       "0           0.007500            1  \n",
       "3           0.035000            1  \n",
       "4           0.006667            1  \n",
       "7           0.066667            1  \n",
       "9           0.071429            1  \n",
       "10          0.266667            0  \n",
       "11          0.066667            1  \n",
       "14          0.250000            0  "
      ]
     },
     "execution_count": 16,
     "metadata": {},
     "output_type": "execute_result"
    }
   ],
   "source": [
    "better_tree_classifier = DecisionTreeClassifier(max_depth=3,\n",
    "                                    random_state=1\n",
    "                                   )\n",
    "\n",
    "fancy_features = ['bipedal', 'Jurassic', 'defence or display', 'feathers (likely)', 'tonnes per meter']\n",
    "\n",
    "train[['name'] + fancy_features + ['meatasaurus']].head(8)"
   ]
  },
  {
   "cell_type": "code",
   "execution_count": 17,
   "metadata": {
    "collapsed": false
   },
   "outputs": [
    {
     "data": {
      "text/plain": [
       "DecisionTreeClassifier(class_weight=None, criterion='gini', max_depth=3,\n",
       "            max_features=None, max_leaf_nodes=None,\n",
       "            min_impurity_split=1e-07, min_samples_leaf=1,\n",
       "            min_samples_split=2, min_weight_fraction_leaf=0.0,\n",
       "            presort=False, random_state=1, splitter='best')"
      ]
     },
     "execution_count": 17,
     "metadata": {},
     "output_type": "execute_result"
    }
   ],
   "source": [
    "better_tree_classifier.fit(train[fancy_features], train.meatasaurus)"
   ]
  },
  {
   "cell_type": "code",
   "execution_count": 18,
   "metadata": {
    "collapsed": false
   },
   "outputs": [
    {
     "name": "stdout",
     "output_type": "stream",
     "text": [
      "The binary tree structure has 7 nodes and has the following tree structure:\n",
      "node=0 test node: go to node 1 if bipedal <= 0.5 else to node 2.\n",
      "\tnode=1 leaf node. 0% meatosaurus of 7 examples.\n",
      "\tnode=2 test node: go to node 3 if feathers (likely) <= 0.5 else to node 6.\n",
      "\t\tnode=3 test node: go to node 4 if tonnes per meter <= 0.433333337307 else to node 5.\n",
      "\t\t\tnode=4 leaf node. 25% meatosaurus of 4 examples.\n",
      "\t\t\tnode=5 leaf node. 100% meatosaurus of 3 examples.\n",
      "\t\tnode=6 leaf node. 100% meatosaurus of 6 examples.\n"
     ]
    }
   ],
   "source": [
    "explain_tree(better_tree_classifier, fancy_features)"
   ]
  },
  {
   "cell_type": "code",
   "execution_count": 19,
   "metadata": {
    "collapsed": false
   },
   "outputs": [
    {
     "data": {
      "text/html": [
       "<div>\n",
       "<table border=\"1\" class=\"dataframe\">\n",
       "  <thead>\n",
       "    <tr style=\"text-align: right;\">\n",
       "      <th></th>\n",
       "      <th>feature</th>\n",
       "      <th>importance</th>\n",
       "    </tr>\n",
       "  </thead>\n",
       "  <tbody>\n",
       "    <tr>\n",
       "      <th>0</th>\n",
       "      <td>bipedal</td>\n",
       "      <td>0.633484</td>\n",
       "    </tr>\n",
       "    <tr>\n",
       "      <th>1</th>\n",
       "      <td>Jurassic</td>\n",
       "      <td>0.000000</td>\n",
       "    </tr>\n",
       "    <tr>\n",
       "      <th>2</th>\n",
       "      <td>defence or display</td>\n",
       "      <td>0.000000</td>\n",
       "    </tr>\n",
       "    <tr>\n",
       "      <th>3</th>\n",
       "      <td>feathers (likely)</td>\n",
       "      <td>0.139625</td>\n",
       "    </tr>\n",
       "    <tr>\n",
       "      <th>4</th>\n",
       "      <td>tonnes per meter</td>\n",
       "      <td>0.226891</td>\n",
       "    </tr>\n",
       "  </tbody>\n",
       "</table>\n",
       "</div>"
      ],
      "text/plain": [
       "              feature  importance\n",
       "0             bipedal    0.633484\n",
       "1            Jurassic    0.000000\n",
       "2  defence or display    0.000000\n",
       "3   feathers (likely)    0.139625\n",
       "4    tonnes per meter    0.226891"
      ]
     },
     "execution_count": 19,
     "metadata": {},
     "output_type": "execute_result"
    }
   ],
   "source": [
    "pd.DataFrame(zip(fancy_features, better_tree_classifier.feature_importances_), columns = ['feature', 'importance'])"
   ]
  },
  {
   "cell_type": "code",
   "execution_count": 20,
   "metadata": {
    "collapsed": true
   },
   "outputs": [],
   "source": [
    "predictions = better_tree_classifier.predict(test[fancy_features])"
   ]
  },
  {
   "cell_type": "code",
   "execution_count": 21,
   "metadata": {
    "collapsed": false
   },
   "outputs": [
    {
     "data": {
      "text/html": [
       "<div>\n",
       "<table border=\"1\" class=\"dataframe\">\n",
       "  <thead>\n",
       "    <tr style=\"text-align: right;\">\n",
       "      <th></th>\n",
       "      <th>name</th>\n",
       "      <th>predicted</th>\n",
       "      <th>actual</th>\n",
       "    </tr>\n",
       "  </thead>\n",
       "  <tbody>\n",
       "    <tr>\n",
       "      <th>0</th>\n",
       "      <td>Albertonykus</td>\n",
       "      <td>1</td>\n",
       "      <td>1</td>\n",
       "    </tr>\n",
       "    <tr>\n",
       "      <th>1</th>\n",
       "      <td>Deinonychus</td>\n",
       "      <td>1</td>\n",
       "      <td>1</td>\n",
       "    </tr>\n",
       "    <tr>\n",
       "      <th>2</th>\n",
       "      <td>Dracopelta</td>\n",
       "      <td>0</td>\n",
       "      <td>0</td>\n",
       "    </tr>\n",
       "    <tr>\n",
       "      <th>3</th>\n",
       "      <td>Pachycephalosaurus</td>\n",
       "      <td>0</td>\n",
       "      <td>0</td>\n",
       "    </tr>\n",
       "    <tr>\n",
       "      <th>4</th>\n",
       "      <td>Albertosaurus</td>\n",
       "      <td>1</td>\n",
       "      <td>1</td>\n",
       "    </tr>\n",
       "    <tr>\n",
       "      <th>5</th>\n",
       "      <td>Megalosaurus</td>\n",
       "      <td>1</td>\n",
       "      <td>1</td>\n",
       "    </tr>\n",
       "    <tr>\n",
       "      <th>6</th>\n",
       "      <td>Yangchuanosaurus</td>\n",
       "      <td>1</td>\n",
       "      <td>1</td>\n",
       "    </tr>\n",
       "  </tbody>\n",
       "</table>\n",
       "</div>"
      ],
      "text/plain": [
       "                 name  predicted  actual\n",
       "0        Albertonykus          1       1\n",
       "1         Deinonychus          1       1\n",
       "2          Dracopelta          0       0\n",
       "3  Pachycephalosaurus          0       0\n",
       "4       Albertosaurus          1       1\n",
       "5        Megalosaurus          1       1\n",
       "6    Yangchuanosaurus          1       1"
      ]
     },
     "execution_count": 21,
     "metadata": {},
     "output_type": "execute_result"
    }
   ],
   "source": [
    "pd.DataFrame(zip(test['name'], predictions, test['meatasaurus']), \n",
    "             columns = ['name', 'predicted', 'actual'])"
   ]
  },
  {
   "cell_type": "markdown",
   "metadata": {
    "collapsed": true
   },
   "source": [
    "Now it rules!"
   ]
  },
  {
   "cell_type": "code",
   "execution_count": null,
   "metadata": {
    "collapsed": true
   },
   "outputs": [],
   "source": []
  }
 ],
 "metadata": {
  "kernelspec": {
   "display_name": "Python 2",
   "language": "python",
   "name": "python2"
  },
  "language_info": {
   "codemirror_mode": {
    "name": "ipython",
    "version": 2
   },
   "file_extension": ".py",
   "mimetype": "text/x-python",
   "name": "python",
   "nbconvert_exporter": "python",
   "pygments_lexer": "ipython2",
   "version": "2.7.9"
  }
 },
 "nbformat": 4,
 "nbformat_minor": 0
}
